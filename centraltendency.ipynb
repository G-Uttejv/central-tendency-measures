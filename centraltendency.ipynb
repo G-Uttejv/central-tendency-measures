{
  "nbformat": 4,
  "nbformat_minor": 0,
  "metadata": {
    "colab": {
      "provenance": [],
      "authorship_tag": "ABX9TyNE+Motd3Jvkrsrr3pR+cp4",
      "include_colab_link": true
    },
    "kernelspec": {
      "name": "python3",
      "display_name": "Python 3"
    },
    "language_info": {
      "name": "python"
    }
  },
  "cells": [
    {
      "cell_type": "markdown",
      "metadata": {
        "id": "view-in-github",
        "colab_type": "text"
      },
      "source": [
        "<a href=\"https://colab.research.google.com/github/G-Uttejv/central-tendency-measures/blob/main/centraltendency.ipynb\" target=\"_parent\"><img src=\"https://colab.research.google.com/assets/colab-badge.svg\" alt=\"Open In Colab\"/></a>"
      ]
    },
    {
      "cell_type": "code",
      "execution_count": 9,
      "metadata": {
        "id": "QTENUSv3r9Rj"
      },
      "outputs": [],
      "source": [
        "import statistics"
      ]
    },
    {
      "cell_type": "code",
      "source": [
        "data=[1,2,3,4,5,5,6,7,8,9]"
      ],
      "metadata": {
        "id": "6AdSZIryx8r4"
      },
      "execution_count": 11,
      "outputs": []
    },
    {
      "cell_type": "code",
      "source": [
        "mean=statistics.mean(data)\n",
        "print(\"Mean:\",mean)"
      ],
      "metadata": {
        "colab": {
          "base_uri": "https://localhost:8080/"
        },
        "id": "BelxQlXJx-Po",
        "outputId": "55babc4e-92ce-421e-c0ea-555261527ad0"
      },
      "execution_count": 12,
      "outputs": [
        {
          "output_type": "stream",
          "name": "stdout",
          "text": [
            "Mean: 5\n"
          ]
        }
      ]
    },
    {
      "cell_type": "code",
      "source": [
        "median=statistics.median(data)\n",
        "print(\"Median:\",median)"
      ],
      "metadata": {
        "colab": {
          "base_uri": "https://localhost:8080/"
        },
        "id": "VhMtGYxayAyv",
        "outputId": "968629ae-d3f4-4fe6-ca5a-37ea5733042a"
      },
      "execution_count": 13,
      "outputs": [
        {
          "output_type": "stream",
          "name": "stdout",
          "text": [
            "Median: 5.0\n"
          ]
        }
      ]
    },
    {
      "cell_type": "code",
      "source": [
        "mode=statistics.mode(data)\n",
        "print(\"Mode:\",mode)"
      ],
      "metadata": {
        "colab": {
          "base_uri": "https://localhost:8080/"
        },
        "id": "cA-hqPXfyPVv",
        "outputId": "a738f5ce-b858-4ff6-c07b-9394e3f60d39"
      },
      "execution_count": 14,
      "outputs": [
        {
          "output_type": "stream",
          "name": "stdout",
          "text": [
            "Mode: 5\n"
          ]
        }
      ]
    },
    {
      "cell_type": "code",
      "source": [
        "variance=statistics.variance(data)\n",
        "print(\"Variance:\",variance)"
      ],
      "metadata": {
        "colab": {
          "base_uri": "https://localhost:8080/"
        },
        "id": "4T_pynx-yStI",
        "outputId": "14fd47fc-f635-4bfb-bb01-2270aa30e106"
      },
      "execution_count": 15,
      "outputs": [
        {
          "output_type": "stream",
          "name": "stdout",
          "text": [
            "Variance: 6.666666666666667\n"
          ]
        }
      ]
    },
    {
      "cell_type": "code",
      "source": [
        "standard_deviation=statistics.stdev(data)\n",
        "print(\"Standard Deviation:\",standard_deviation)"
      ],
      "metadata": {
        "colab": {
          "base_uri": "https://localhost:8080/"
        },
        "id": "CofwlKo2yWm4",
        "outputId": "6d7f9b86-7d33-487f-8ff3-83ce16a973bc"
      },
      "execution_count": 16,
      "outputs": [
        {
          "output_type": "stream",
          "name": "stdout",
          "text": [
            "Standard Deviation: 2.581988897471611\n"
          ]
        }
      ]
    }
  ]
}